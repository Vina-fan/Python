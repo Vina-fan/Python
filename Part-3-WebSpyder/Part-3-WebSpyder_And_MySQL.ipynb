{
 "cells": [
  {
   "cell_type": "markdown",
   "metadata": {},
   "source": [
    "### Python数据结构可视化工具：  \n",
    "http://www.pythontutor.com/    \n",
    "（Python Tutor 中的 living programming mode）"
   ]
  },
  {
   "cell_type": "markdown",
   "metadata": {},
   "source": [
    "### 数据库（管理系统）"
   ]
  },
  {
   "cell_type": "markdown",
   "metadata": {},
   "source": [
    "关系型数据库 _mysql数据库  \n",
    "分支（替代） MariaDB（完全兼容MySQL）_"
   ]
  },
  {
   "cell_type": "markdown",
   "metadata": {},
   "source": [
    "_非关系型数据库（Mongdb,redis）_"
   ]
  },
  {
   "cell_type": "markdown",
   "metadata": {},
   "source": [
    "- json语言，python中存在json模块\n",
    "- 必须是双引号，否则报错"
   ]
  },
  {
   "cell_type": "markdown",
   "metadata": {
    "collapsed": true
   },
   "source": [
    "网页中“检查元素”、“网络”、“XHR”，搜索对应的URL网址会出来字典，称其为_json格式_"
   ]
  },
  {
   "cell_type": "code",
   "execution_count": 4,
   "metadata": {},
   "outputs": [
    {
     "data": {
      "text/plain": [
       "(str, str)"
      ]
     },
     "execution_count": 4,
     "metadata": {},
     "output_type": "execute_result"
    }
   ],
   "source": [
    "import json\n",
    "\n",
    "data_1 = \"{'a':1,'b':2,'c':3}\"\n",
    "data_2 = '{\"a\":1,\"b\":2,\"c\":3}'\n",
    "\n",
    "type(data_1),type(data_2)#单双引号顺序不影响"
   ]
  },
  {
   "cell_type": "code",
   "execution_count": 5,
   "metadata": {},
   "outputs": [
    {
     "data": {
      "text/plain": [
       "dict"
      ]
     },
     "execution_count": 5,
     "metadata": {},
     "output_type": "execute_result"
    }
   ],
   "source": [
    "import json\n",
    "\n",
    "data_1 = \"{'a':1,'b':2,'c':3}\"#会报错\n",
    "data_2 = '{\"a\":1,\"b\":2,\"c\":3}'#里面用双引号\n",
    "\n",
    "j_data = json.loads(data_2)\n",
    "type(j_data)          #单双引号顺序有影响"
   ]
  },
  {
   "cell_type": "code",
   "execution_count": 14,
   "metadata": {},
   "outputs": [
    {
     "name": "stdout",
     "output_type": "stream",
     "text": [
      "{'a': 100, 'b': 200}\n"
     ]
    }
   ],
   "source": [
    "with open('C:/Users/Administrator.PC-20161025UZHI/Desktop/data.json','r') as f:\n",
    "    j_data =json.load(f)\n",
    "    print(j_data)"
   ]
  },
  {
   "cell_type": "markdown",
   "metadata": {
    "collapsed": true
   },
   "source": [
    "### MySQL数据库基本操作"
   ]
  },
  {
   "cell_type": "markdown",
   "metadata": {},
   "source": [
    "#### 命令行操作"
   ]
  },
  {
   "cell_type": "code",
   "execution_count": null,
   "metadata": {
    "collapsed": true
   },
   "outputs": [],
   "source": [
    "# 链接 数据库(cmd)\n",
    "# u 是用户名，p 需要密码.然后进入数据库\n",
    "mysql -u root -p\n",
    "\n",
    "# 查看 数据库\n",
    "show databases;\n",
    "\n",
    "# 选择 数据库\n",
    "use database_name;\n",
    "\n",
    "# 查看 数据库中的 table表\n",
    "show tables;\n",
    "\n",
    "# 查看 表 的结构 (desc描述)\n",
    "desc table_name;\n",
    "\n",
    "# 查看 表中的数据\n",
    "select * from table_name;\n",
    "\n",
    "# 查看 数据 并 限制数量\n",
    "select * from table_name limit 10;"
   ]
  },
  {
   "cell_type": "markdown",
   "metadata": {
    "collapsed": true
   },
   "source": [
    "- 数据库管理工具  \n",
    "sequelpro（只有Mac版本）链接：http://www.sequelpro.com/  \n",
    "windows查看软件（如Navicat）"
   ]
  },
  {
   "cell_type": "markdown",
   "metadata": {
    "collapsed": true
   },
   "source": [
    "#### 创建数据库  \n",
    "\n",
    "\n",
    " \n",
    "\n",
    "  \n",
    "  \n",
    "\n"
   ]
  },
  {
   "cell_type": "code",
   "execution_count": null,
   "metadata": {
    "collapsed": true
   },
   "outputs": [],
   "source": [
    "create database Examination_copy;"
   ]
  },
  {
   "cell_type": "markdown",
   "metadata": {},
   "source": [
    "#### 删除数据库  \n"
   ]
  },
  {
   "cell_type": "code",
   "execution_count": null,
   "metadata": {
    "collapsed": true
   },
   "outputs": [],
   "source": [
    "drop database Examination_copy;"
   ]
  },
  {
   "cell_type": "markdown",
   "metadata": {},
   "source": [
    "#### 指定字符集和校对集，创建数据库"
   ]
  },
  {
   "cell_type": "code",
   "execution_count": null,
   "metadata": {
    "collapsed": true
   },
   "outputs": [],
   "source": [
    "create database Examination_copy default charset utf8mb4 collate utf8mb4_general_ci;\n",
    "  #字符集charset 校对集collate"
   ]
  },
  {
   "cell_type": "markdown",
   "metadata": {},
   "source": [
    "#### 创建表格"
   ]
  },
  {
   "cell_type": "code",
   "execution_count": null,
   "metadata": {},
   "outputs": [],
   "source": [
    "mysql> CREATE TABLE class(\n",
    "    -> id int(11) NOT NULL AUTO_INCREMENT,\n",
    "    -> name varchar(80) NOT NULL,\n",
    "    -> PRIMARY KEY(id));"
   ]
  },
  {
   "cell_type": "markdown",
   "metadata": {},
   "source": [
    "#### 二进制\n",
    "\n",
    "- 整数部分\n",
    "3   转换为二进制 11\n",
    "- 小数部分\n",
    "0.4 转换为二进制 0.5 \\* 0 + 0.25 \\* 1 + 0.125 \\* 1 + ...\n",
    "                             0         1          1"
   ]
  },
  {
   "cell_type": "markdown",
   "metadata": {},
   "source": [
    "#### mysql数据类型   \n",
    "链接 https://www.runoob.com/mysql/mysql-data-types.html"
   ]
  },
  {
   "cell_type": "markdown",
   "metadata": {},
   "source": [
    "#### 插入数据  "
   ]
  },
  {
   "cell_type": "code",
   "execution_count": null,
   "metadata": {
    "collapsed": true
   },
   "outputs": [],
   "source": [
    "insert into `class`(`id`,`name`)\n",
    "values(4,'高一二班');#不加'id'默认按顺序排号"
   ]
  },
  {
   "cell_type": "markdown",
   "metadata": {},
   "source": [
    "#### 修改数据"
   ]
  },
  {
   "cell_type": "code",
   "execution_count": null,
   "metadata": {
    "collapsed": true
   },
   "outputs": [],
   "source": [
    "mysql> update `class` set name ='高一二班'where name = \"高一五班\";"
   ]
  },
  {
   "cell_type": "markdown",
   "metadata": {},
   "source": [
    "#### 删除操作"
   ]
  },
  {
   "cell_type": "code",
   "execution_count": null,
   "metadata": {
    "collapsed": true
   },
   "outputs": [],
   "source": [
    "delete from `class`\n",
    "where `id`=6"
   ]
  },
  {
   "cell_type": "markdown",
   "metadata": {},
   "source": [
    "### 使用Python操作数据库  \n",
    "https://www.cnblogs.com/hank-chen/p/6624299.html\n"
   ]
  },
  {
   "cell_type": "markdown",
   "metadata": {},
   "source": [
    "Python 安装第三方库  \n",
    "1、pip;   eg：pip install pymysql  \n",
    "2、conda;   eg:conda install pymysql"
   ]
  },
  {
   "cell_type": "code",
   "execution_count": 1,
   "metadata": {},
   "outputs": [],
   "source": [
    "import pymysql"
   ]
  },
  {
   "cell_type": "code",
   "execution_count": 20,
   "metadata": {},
   "outputs": [],
   "source": [
    "DATABASE ={\n",
    "    \"host\":\"localhost\",#如果为远程数据库，此处为远程服务的ip地址12.0.0.1\n",
    "    \"database\":\"examination_copy\",\n",
    "    \"user\":\"root\",\n",
    "    \"password\":\"AFF520vina!!\",\n",
    "    # 'charset':\"utfbmb4\"\n",
    "}\n",
    "# 若多个数据库，写成列表\n",
    "\n",
    "# db = pymysql.Connect(host = \"localhost\",uesr = \"root\",password =\"AFF520vina!!\",db = \"Examination_copy\")\n",
    "# 等价于\n",
    "#db = pymysql.Connect(\"localhost\",\"root\",\"AFF520vina!!\",\"Examination_copy\")\n",
    "# 等价于(参数收集)\n",
    "db = pymysql.Connect(**DATABASE)"
   ]
  },
  {
   "cell_type": "markdown",
   "metadata": {},
   "source": [
    "#### 游标"
   ]
  },
  {
   "cell_type": "code",
   "execution_count": 21,
   "metadata": {},
   "outputs": [],
   "source": [
    "cursor = db.cursor()"
   ]
  },
  {
   "cell_type": "markdown",
   "metadata": {},
   "source": [
    "#### 查询"
   ]
  },
  {
   "cell_type": "code",
   "execution_count": 30,
   "metadata": {},
   "outputs": [
    {
     "name": "stdout",
     "output_type": "stream",
     "text": [
      "(1, '高一一班')\n",
      "(2, '高一二班')\n",
      "(3, '高一三班')\n",
      "(7, '高一四班')\n",
      "(8, '高一四班')\n"
     ]
    }
   ],
   "source": [
    "sql = \"select * from class\"\n",
    "cursor.execute(sql)\n",
    "results=cursor.fetchall()\n",
    "for row in results:\n",
    "    print(row)"
   ]
  },
  {
   "cell_type": "markdown",
   "metadata": {},
   "source": [
    "#### 插入"
   ]
  },
  {
   "cell_type": "code",
   "execution_count": 32,
   "metadata": {},
   "outputs": [],
   "source": [
    "sql = \"insert into class(id,name) values(9,'高一十班');\"\n",
    "cursor = db.cursor()\n",
    "cursor.execute(sql)\n",
    "db.commit()"
   ]
  },
  {
   "cell_type": "markdown",
   "metadata": {},
   "source": [
    "#### 删除"
   ]
  },
  {
   "cell_type": "code",
   "execution_count": 33,
   "metadata": {},
   "outputs": [],
   "source": [
    "sql = \"delete from class where name = '高一五班'\"\n",
    "cursor = db.cursor()\n",
    "cursor.execute(sql)\n",
    "db.commit()"
   ]
  },
  {
   "cell_type": "markdown",
   "metadata": {},
   "source": [
    "#### 更新"
   ]
  },
  {
   "cell_type": "code",
   "execution_count": 34,
   "metadata": {},
   "outputs": [],
   "source": [
    "sql = \"update class set name = '高一十一班' where name = '高一十班'\"\n",
    "cursor = db.cursor()\n",
    "cursor.execute(sql)\n",
    "db.commit()"
   ]
  },
  {
   "cell_type": "markdown",
   "metadata": {
    "collapsed": true
   },
   "source": [
    "##  Python爬虫"
   ]
  },
  {
   "cell_type": "markdown",
   "metadata": {
    "collapsed": true
   },
   "source": [
    "_Python库_\n",
    "\n",
    "1、requests 用来获取页面内容（访问文档）  \n",
    "2、BeautifulSoup 用来提取页面信息（可以访问 4.2.0 中文文档）"
   ]
  },
  {
   "cell_type": "markdown",
   "metadata": {},
   "source": [
    "*安装 requests 和 bs4*  \n",
    "- pip install requests  \n",
    "- pip install bs4  \n",
    "\n",
    "_用IPython测试_  \n",
    "- from bs4 import BeautifulSoup"
   ]
  },
  {
   "cell_type": "code",
   "execution_count": 3,
   "metadata": {},
   "outputs": [],
   "source": [
    "import requests\n",
    "\n",
    "from bs4 import BeautifulSoup"
   ]
  },
  {
   "cell_type": "code",
   "execution_count": 2,
   "metadata": {},
   "outputs": [],
   "source": [
    "# 定义变量，爬取页面链接\n",
    "url ='https://bj.lianjia.com/zufang/'\n",
    "# 'get函数'通过浏览器URL获取链接\n",
    "# 'post函数'通过填写表单获取链接\n",
    "responce = requests.get(url)\n",
    "# 输入responce，若输出<Response [200]>表示页面成功获取数据\n",
    "# lxml为一种解析，不加不出现警告\n",
    "soup = BeautifulSoup(responce.text,'lxml')"
   ]
  },
  {
   "cell_type": "code",
   "execution_count": 3,
   "metadata": {
    "scrolled": true
   },
   "outputs": [],
   "source": [
    "# 获取当前页面所有的HTML代码（无缩进）\n",
    "# responce.text\n",
    "# 获取当前页面所有的HTML代码（有缩进）\n",
    "# soup"
   ]
  },
  {
   "cell_type": "code",
   "execution_count": 4,
   "metadata": {
    "scrolled": true
   },
   "outputs": [],
   "source": [
    "# 由‘审查元素’确定对象需要在div框下查找class\n",
    "# 由于class是python中的关键字，故在后加\"_\"以区分\n",
    "links_div = soup.find_all('div',class_=\"pic-panel\")\n",
    "links = [div.a.get('href') for div in links_div]"
   ]
  },
  {
   "cell_type": "code",
   "execution_count": 5,
   "metadata": {},
   "outputs": [
    {
     "data": {
      "text/plain": [
       "'https://bj.lianjia.com/zufang/101102950195.html'"
      ]
     },
     "execution_count": 5,
     "metadata": {},
     "output_type": "execute_result"
    }
   ],
   "source": [
    "# 此行为测试\n",
    "# 只要a部分中herf的内容\n",
    "links_div[0].a.get('href')"
   ]
  },
  {
   "cell_type": "code",
   "execution_count": 6,
   "metadata": {
    "scrolled": true
   },
   "outputs": [
    {
     "data": {
      "text/plain": [
       "(['https://bj.lianjia.com/zufang/101102950195.html',\n",
       "  'https://bj.lianjia.com/zufang/101102947992.html',\n",
       "  'https://bj.lianjia.com/zufang/101102912955.html',\n",
       "  'https://bj.lianjia.com/zufang/101102946758.html',\n",
       "  'https://bj.lianjia.com/zufang/101102942601.html',\n",
       "  'https://bj.lianjia.com/zufang/101102996398.html',\n",
       "  'https://bj.lianjia.com/zufang/101102994627.html',\n",
       "  'https://bj.lianjia.com/zufang/101103014033.html',\n",
       "  'https://bj.lianjia.com/zufang/101103006144.html',\n",
       "  'https://bj.lianjia.com/zufang/101102684700.html',\n",
       "  'https://bj.lianjia.com/zufang/101102880539.html',\n",
       "  'https://bj.lianjia.com/zufang/101101774488.html',\n",
       "  'https://bj.lianjia.com/zufang/101102839279.html',\n",
       "  'https://bj.lianjia.com/zufang/101102643867.html',\n",
       "  'https://bj.lianjia.com/zufang/101102909655.html',\n",
       "  'https://bj.lianjia.com/zufang/101102597979.html',\n",
       "  'https://bj.lianjia.com/zufang/101102886525.html',\n",
       "  'https://bj.lianjia.com/zufang/101102743002.html',\n",
       "  'https://bj.lianjia.com/zufang/101102634980.html',\n",
       "  'https://bj.lianjia.com/zufang/101102874798.html',\n",
       "  'https://bj.lianjia.com/zufang/101102669361.html',\n",
       "  'https://bj.lianjia.com/zufang/101102785265.html',\n",
       "  'https://bj.lianjia.com/zufang/101102794111.html',\n",
       "  'https://bj.lianjia.com/zufang/101102829684.html',\n",
       "  'https://bj.lianjia.com/zufang/101102811942.html',\n",
       "  'https://bj.lianjia.com/zufang/101102724993.html',\n",
       "  'https://bj.lianjia.com/zufang/101102921591.html',\n",
       "  'https://bj.lianjia.com/zufang/101102912142.html',\n",
       "  'https://bj.lianjia.com/zufang/101102961959.html',\n",
       "  'https://bj.lianjia.com/zufang/101102940965.html'],\n",
       " 30)"
      ]
     },
     "execution_count": 6,
     "metadata": {},
     "output_type": "execute_result"
    }
   ],
   "source": [
    "# 查看\n",
    "links,len(links)"
   ]
  },
  {
   "cell_type": "markdown",
   "metadata": {},
   "source": [
    "- 将以上编程封装成函数"
   ]
  },
  {
   "cell_type": "code",
   "execution_count": 4,
   "metadata": {},
   "outputs": [],
   "source": [
    "# 封装成函数，以获取列表页下的所有租房页面链接，返回链接列表\n",
    "def get_links(link_url):\n",
    "    responce = requests.get(url)\n",
    "    soup = BeautifulSoup(responce.text,'lxml')\n",
    "    links_div = soup.find_all('div',class_=\"pic-panel\")\n",
    "    links = [div.a.get('href') for div in links_div]\n",
    "    return links"
   ]
  },
  {
   "cell_type": "code",
   "execution_count": 5,
   "metadata": {},
   "outputs": [
    {
     "data": {
      "text/plain": [
       "['https://bj.lianjia.com/zufang/BJ0005528863.html',\n",
       " 'https://bj.lianjia.com/zufang/BJ0005528330.html',\n",
       " 'https://bj.lianjia.com/zufang/BJ0005515012.html',\n",
       " 'https://bj.lianjia.com/zufang/BJ0005515132.html',\n",
       " 'https://bj.lianjia.com/zufang/BJ0005518047.html',\n",
       " 'https://bj.lianjia.com/zufang/BJ0005517757.html',\n",
       " 'https://bj.lianjia.com/zufang/BJ0005518399.html',\n",
       " 'https://bj.lianjia.com/zufang/BJ0005516932.html',\n",
       " 'https://bj.lianjia.com/zufang/BJ0005516277.html',\n",
       " 'https://bj.lianjia.com/zufang/BJ0005496310.html',\n",
       " 'https://bj.lianjia.com/zufang/BJ0005516500.html',\n",
       " 'https://bj.lianjia.com/zufang/BJ0005518359.html',\n",
       " 'https://bj.lianjia.com/zufang/BJ0005335085.html',\n",
       " 'https://bj.lianjia.com/zufang/BJ0005519582.html',\n",
       " 'https://bj.lianjia.com/zufang/BJ0005521336.html',\n",
       " 'https://bj.lianjia.com/zufang/BJ0005521956.html',\n",
       " 'https://bj.lianjia.com/zufang/BJ0005123723.html',\n",
       " 'https://bj.lianjia.com/zufang/BJ0005524056.html',\n",
       " 'https://bj.lianjia.com/zufang/BJ0005491789.html',\n",
       " 'https://bj.lianjia.com/zufang/BJ0005524619.html',\n",
       " 'https://bj.lianjia.com/zufang/BJ0005492191.html',\n",
       " 'https://bj.lianjia.com/zufang/BJ0005493028.html',\n",
       " 'https://bj.lianjia.com/zufang/BJ0005535362.html',\n",
       " 'https://bj.lianjia.com/zufang/BJ0005536294.html',\n",
       " 'https://bj.lianjia.com/zufang/BJ0005537598.html',\n",
       " 'https://bj.lianjia.com/zufang/BJ0005538066.html',\n",
       " 'https://bj.lianjia.com/zufang/BJ0005508306.html',\n",
       " 'https://bj.lianjia.com/zufang/BJ0005538265.html',\n",
       " 'https://bj.lianjia.com/zufang/BJ0005538261.html',\n",
       " 'https://bj.lianjia.com/zufang/BJ0005502003.html']"
      ]
     },
     "execution_count": 5,
     "metadata": {},
     "output_type": "execute_result"
    }
   ],
   "source": [
    "link_url ='https://bj.lianjia.com/zufang/'\n",
    "get_links(link_url)"
   ]
  },
  {
   "cell_type": "code",
   "execution_count": 8,
   "metadata": {},
   "outputs": [],
   "source": [
    "# 获取URL下的页面内容，返回soup对象\n",
    "def get_page(link_url):\n",
    "    response = requests.get(link_url)\n",
    "    soup = BeautifulSoup(response.text,'lxml')\n",
    "    return soup\n",
    "\n",
    "# 封装成函数，以获取列表页下的所有租房页面链接，返回链接列\n",
    "def get_links(link_url):\n",
    "    soup = get_page(link_url)\n",
    "    links_div = soup.find_all('div',class_=\"pic-panel\")\n",
    "    links = [div.a.get('href') for div in links_div]\n",
    "    return links\n",
    "\n",
    "def get_house_info(house_url):\n",
    "    house_url = 'https://bj.lianjia.com/zufang/101101798181.html'\n",
    "    soup = get_page(house_url)\n",
    "\n",
    "    price = soup.find('span',class_='total').text\n",
    "    unit = soup.find('span',class_='unit').text.strip()#剔除换行符和空格\n",
    "\n",
    "    house_info = soup.find_all('p')\n",
    "    area = house_info[0].text[3:]\n",
    "    layout = house_info[1].text[5:]\n",
    "    floor = house_info[2].text[3:]\n",
    "    direction = house_info[3].text[5:]\n",
    "    subway = house_info[4].text[3:]\n",
    "    community = house_info[5].text[3:]\n",
    "    location = house_info[6].text[3:]\n",
    "    create_time = house_info[7].text[3:]\n",
    "    agent = soup.find('a',class_='name LOGCLICK')\n",
    "    agent_name = agent.text\n",
    "    agent_id = agent.get('data-el')\n",
    "    evaluate = soup.find('div',class_='evaluate')\n",
    "    score, number = evaluate.find('span',class_='rate').text.split('/')\n",
    "    times = evaluate.find('span',class_='time').text[5:-1]\n",
    "    info = {\n",
    "        \"价格\": price,\n",
    "        '单位': unit,\n",
    "        '面积': area,\n",
    "        '户型': layout,\n",
    "        '楼层': floor,\n",
    "        '朝向': direction,\n",
    "        '发布时间': create_time,\n",
    "        '地铁': subway,\n",
    "        '小区': community,\n",
    "        '位置': location,\n",
    "        '经纪人名字': agent_name,\n",
    "        '经纪人ID': agent_id,\n",
    "    }\n",
    "    return info\n",
    "                   "
   ]
  },
  {
   "cell_type": "code",
   "execution_count": 9,
   "metadata": {},
   "outputs": [
    {
     "data": {
      "text/plain": [
       "{'价格': '7300',\n",
       " '单位': '元/月',\n",
       " '面积': '81.5平米',\n",
       " '户型': '2室1厅1卫  整租',\n",
       " '楼层': '高楼层 (共12层)',\n",
       " '朝向': '西',\n",
       " '发布时间': '367天前发布',\n",
       " '地铁': '距地铁2号线阜成门1193米',\n",
       " '小区': '三里河东路\\n            - 3套出租中',\n",
       " '位置': '西城 月坛',\n",
       " '经纪人名字': '解鹏',\n",
       " '经纪人ID': '1000000020390332'}"
      ]
     },
     "execution_count": 9,
     "metadata": {},
     "output_type": "execute_result"
    }
   ],
   "source": [
    "get_house_info('https://bj.lianjia.com/zufang/101101798181.html')"
   ]
  },
  {
   "cell_type": "code",
   "execution_count": 10,
   "metadata": {},
   "outputs": [
    {
     "data": {
      "text/plain": [
       "[<p>北京租房信息</p>,\n",
       " <p>链家网北京站北京租房频道提供真实、时时的北京租房房源信息，北京租房房源目前为8613套，全部由线下经纪人确认核实上传，信息可靠，北京租房用户可以在链家网北京租房频道和北京租房频道移动端最快速、最及时的找到自己想要的真实、放心房源。链家网北京租房平台，真房源，如你所见！</p>,\n",
       " <p></p>,\n",
       " <p style=\"float:left;height:20px;line-height:20px;margin: 0px 0px 0px 5px;color: #888c8e;\">京公网安备 11010802024019号</p>]"
      ]
     },
     "execution_count": 10,
     "metadata": {},
     "output_type": "execute_result"
    }
   ],
   "source": [
    "# 测试行\n",
    "house_info = soup.(find_all'p')\n",
    "aa = house_info\n",
    "aa"
   ]
  },
  {
   "cell_type": "code",
   "execution_count": null,
   "metadata": {},
   "outputs": [],
   "source": []
  }
 ],
 "metadata": {
  "kernelspec": {
   "display_name": "Python 3",
   "language": "python",
   "name": "python3"
  },
  "language_info": {
   "codemirror_mode": {
    "name": "ipython",
    "version": 3
   },
   "file_extension": ".py",
   "mimetype": "text/x-python",
   "name": "python",
   "nbconvert_exporter": "python",
   "pygments_lexer": "ipython3",
   "version": "3.6.5"
  }
 },
 "nbformat": 4,
 "nbformat_minor": 2
}
