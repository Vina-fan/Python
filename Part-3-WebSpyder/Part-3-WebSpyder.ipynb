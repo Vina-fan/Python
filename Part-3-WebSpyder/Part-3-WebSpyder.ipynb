{
 "cells": [
  {
   "cell_type": "markdown",
   "metadata": {},
   "source": [
    "### Python数据结构可视化工具：  \n",
    "http://www.pythontutor.com/    \n",
    "（Python Tutor 中的 living programming mode）"
   ]
  },
  {
   "cell_type": "markdown",
   "metadata": {},
   "source": [
    "### 数据库（管理系统）"
   ]
  },
  {
   "cell_type": "markdown",
   "metadata": {},
   "source": [
    "_mysql数据库 MariaDB（完全兼容MySQL）_"
   ]
  },
  {
   "cell_type": "markdown",
   "metadata": {},
   "source": [
    "_非关系型数据库（Mongdb,redis）_"
   ]
  },
  {
   "cell_type": "code",
   "execution_count": 1,
   "metadata": {
    "collapsed": false
   },
   "outputs": [
    {
     "data": {
      "text/plain": [
       "(str, str)"
      ]
     },
     "execution_count": 1,
     "metadata": {},
     "output_type": "execute_result"
    }
   ],
   "source": [
    "import json\n",
    "\n",
    "data_1 = \"{'a':1,'b':2,'c':3}\"\n",
    "data_2 = '{\"a\":1,\"b\":2,\"c\":3}'\n",
    "\n",
    "type(data_1),type(data_2)#单双引号顺序不影响"
   ]
  },
  {
   "cell_type": "code",
   "execution_count": 2,
   "metadata": {
    "collapsed": false
   },
   "outputs": [
    {
     "data": {
      "text/plain": [
       "dict"
      ]
     },
     "execution_count": 2,
     "metadata": {},
     "output_type": "execute_result"
    }
   ],
   "source": [
    "import json\n",
    "\n",
    "data_1 = \"{'a':1,'b':2,'c':3}\"\n",
    "data_2 = '{\"a\":1,\"b\":2,\"c\":3}'#里面用双引号\n",
    "\n",
    "j_data = json.loads(data_2)\n",
    "type(j_data)          #单双引号顺序有影响"
   ]
  },
  {
   "cell_type": "code",
   "execution_count": null,
   "metadata": {
    "collapsed": true
   },
   "outputs": [],
   "source": [
    "with open('/Users/admin/Desktop/data.json','r') as f:\n",
    "    json.load(f)#没有报错,所以保存为变量如下"
   ]
  },
  {
   "cell_type": "code",
   "execution_count": 26,
   "metadata": {
    "collapsed": false
   },
   "outputs": [
    {
     "name": "stdout",
     "output_type": "stream",
     "text": [
      "{u'a': 100, u'b': 200}\n"
     ]
    }
   ],
   "source": [
    "with open('/Users/admin/Desktop/data.json','r') as f:\n",
    "    j_data =json.load(f)\n",
    "    print(j_data)"
   ]
  },
  {
   "cell_type": "code",
   "execution_count": 4,
   "metadata": {
    "collapsed": true
   },
   "outputs": [],
   "source": [
    "dict ={\n",
    "    'a':100,\n",
    "    'b':200\n",
    "}#字典"
   ]
  },
  {
   "cell_type": "markdown",
   "metadata": {
    "collapsed": true
   },
   "source": [
    "网页中“检查元素”、“网络”、“XHR”，搜索对应的URL网址会出来字典，称其为_json格式_"
   ]
  },
  {
   "cell_type": "markdown",
   "metadata": {
    "collapsed": true
   },
   "source": [
    "### MySQL数据库基本操作"
   ]
  },
  {
   "cell_type": "markdown",
   "metadata": {},
   "source": [
    "#### 命令行操作"
   ]
  },
  {
   "cell_type": "code",
   "execution_count": null,
   "metadata": {
    "collapsed": true
   },
   "outputs": [],
   "source": [
    "# 链接 数据库？\n",
    "mysql -u root -p# u 是用户名，p 是密码.然后进入数据库\n",
    "\n",
    "# 查看 数据库\n",
    "show databases;\n",
    "\n",
    "# 选择 数据库\n",
    "use database_name;\n",
    "\n",
    "# 查看 数据库中的 table表\n",
    "show tables;\n",
    "\n",
    "# 查看 表 的结构 (desc描述)\n",
    "desc tables;\n",
    "desc table_name;\n",
    "\n",
    "# 查看 表中的数据\n",
    "select * from table_name;\n",
    "\n",
    "# 查看 数据并限制数量\n",
    "select * from table_name limit 10;"
   ]
  },
  {
   "cell_type": "markdown",
   "metadata": {
    "collapsed": true
   },
   "source": [
    "- 数据库管理工具  \n",
    "sequelpro（只有Mac版本）链接：http://www.sequelpro.com/  \n",
    "windows查看软件（网上搜索,如Navicat）"
   ]
  },
  {
   "cell_type": "markdown",
   "metadata": {
    "collapsed": true
   },
   "source": [
    "#### 创建数据库  \n",
    "\n",
    "\n",
    " \n",
    "\n",
    "  \n",
    "  \n",
    "\n"
   ]
  },
  {
   "cell_type": "code",
   "execution_count": null,
   "metadata": {
    "collapsed": true
   },
   "outputs": [],
   "source": [
    "create database Examination_copy;"
   ]
  },
  {
   "cell_type": "markdown",
   "metadata": {},
   "source": [
    "#### 删除数据库  \n"
   ]
  },
  {
   "cell_type": "code",
   "execution_count": null,
   "metadata": {
    "collapsed": true
   },
   "outputs": [],
   "source": [
    "drop database Examination_copy;"
   ]
  },
  {
   "cell_type": "markdown",
   "metadata": {},
   "source": [
    "#### 指定字符集和校对集，创建数据库"
   ]
  },
  {
   "cell_type": "code",
   "execution_count": null,
   "metadata": {
    "collapsed": true
   },
   "outputs": [],
   "source": [
    "create database Examination_copy default charset utf8mb4 collate utf8mb4_general_ci;\n",
    "  #字符集charset 校对集collate"
   ]
  },
  {
   "cell_type": "markdown",
   "metadata": {},
   "source": [
    "#### 创建表格"
   ]
  },
  {
   "cell_type": "code",
   "execution_count": null,
   "metadata": {
    "collapsed": true
   },
   "outputs": [],
   "source": [
    "CREATE TABLE `class`(\n",
    "  `id` int(11) unsigned NOT NULL auto_increment,\n",
    "  `name` varchar(80) not null,\n",
    "  PRIMARY KEY(`id`)\n",
    ");"
   ]
  },
  {
   "cell_type": "markdown",
   "metadata": {},
   "source": [
    "#### 二进制\n",
    "\n",
    "- 整数部分\n",
    "3   转换为二进制 11\n",
    "- 小数部分\n",
    "0.4 转换为二进制 0.5*0 + 0.25*1 + 0.125*1 + ...\n",
    "                   0    1        1"
   ]
  },
  {
   "cell_type": "markdown",
   "metadata": {},
   "source": [
    "#### mysql数据类型   \n",
    "链接 https://www.runoob.com/mysql/mysql-data-types.html"
   ]
  },
  {
   "cell_type": "markdown",
   "metadata": {},
   "source": [
    "#### 插入数据  "
   ]
  },
  {
   "cell_type": "code",
   "execution_count": null,
   "metadata": {
    "collapsed": true
   },
   "outputs": [],
   "source": [
    "insert into `class`(`id`,`name`)\n",
    "values(4,'高一二班');"
   ]
  },
  {
   "cell_type": "markdown",
   "metadata": {},
   "source": [
    "#### 修改数据"
   ]
  },
  {
   "cell_type": "code",
   "execution_count": null,
   "metadata": {
    "collapsed": true
   },
   "outputs": [],
   "source": [
    "update `class` set `name` ='高一五班'\n",
    "where `name` = '高一三班';"
   ]
  },
  {
   "cell_type": "markdown",
   "metadata": {},
   "source": [
    "#### 删除操作"
   ]
  },
  {
   "cell_type": "code",
   "execution_count": null,
   "metadata": {
    "collapsed": true
   },
   "outputs": [],
   "source": [
    "delete from `class`\n",
    "where `id`=6"
   ]
  },
  {
   "cell_type": "markdown",
   "metadata": {},
   "source": [
    "### 使用Python操作数据库  \n",
    "https://www.cnblogs.com/hank-chen/p/6624299.html\n"
   ]
  },
  {
   "cell_type": "markdown",
   "metadata": {},
   "source": [
    "Python 安装第三方库  \n",
    "1、pip;   eg：pip install pymysql  \n",
    "2、conda;   eg:conda install pymysql"
   ]
  },
  {
   "cell_type": "markdown",
   "metadata": {
    "collapsed": true
   },
   "source": [
    "###  爬虫"
   ]
  },
  {
   "cell_type": "markdown",
   "metadata": {
    "collapsed": true
   },
   "source": [
    "_Python库_"
   ]
  },
  {
   "cell_type": "markdown",
   "metadata": {
    "collapsed": true
   },
   "source": [
    "1、requests 用来获取页面内容（访问文档）  \n",
    "2、BeautifulSoup 用来提取页面信息（可以访问 4.2.0 中文文档）"
   ]
  },
  {
   "cell_type": "markdown",
   "metadata": {
    "collapsed": false
   },
   "source": [
    "_安装 requests 和 bs4 _  \n",
    "- pip install requests  \n",
    "- pip install bs4  \n",
    "\n",
    "_用IPython测试_  \n",
    "- from bs4 import BeautifulSoup"
   ]
  },
  {
   "cell_type": "code",
   "execution_count": 6,
   "metadata": {
    "collapsed": false
   },
   "outputs": [],
   "source": [
    "import requests\n",
    "\n",
    "from bs4 import BeautifulSoup"
   ]
  },
  {
   "cell_type": "code",
   "execution_count": 7,
   "metadata": {
    "collapsed": true
   },
   "outputs": [],
   "source": [
    "# 定义变量，爬取页面链接\n",
    "url ='https://bj.lianjia.com/zufang/'\n",
    "# 'get函数'通过浏览器URL获取链接\n",
    "# 'post函数'通过填写表单获取链接\n",
    "responce = requests.get(url)\n",
    "# 输入responce，若输出<Response [200]>表示页面成功获取数据\n",
    "# lxml为一种解析，不加不出现警告\n",
    "soup = BeautifulSoup(responce.text,'lxml')"
   ]
  },
  {
   "cell_type": "code",
   "execution_count": 8,
   "metadata": {
    "collapsed": false,
    "scrolled": true
   },
   "outputs": [],
   "source": [
    "# 获取当前页面所有的HTML代码（无缩进）\n",
    "# responce.text\n",
    "# 获取当前页面所有的HTML代码（有缩进）\n",
    "# soup"
   ]
  },
  {
   "cell_type": "code",
   "execution_count": 9,
   "metadata": {
    "collapsed": false,
    "scrolled": true
   },
   "outputs": [],
   "source": [
    "# 由‘审查元素’确定对象需要在div框下查找class\n",
    "# 由于class是python中的关键字，故在后加\"_\"以区分\n",
    "links_div = soup.find_all('div',class_=\"pic-panel\")\n",
    "links = [div.a.get('href') for div in links_div]"
   ]
  },
  {
   "cell_type": "code",
   "execution_count": 10,
   "metadata": {
    "collapsed": false
   },
   "outputs": [
    {
     "data": {
      "text/plain": [
       "'https://bj.lianjia.com/zufang/101102950195.html'"
      ]
     },
     "execution_count": 10,
     "metadata": {},
     "output_type": "execute_result"
    }
   ],
   "source": [
    "# 此行为测试\n",
    "# 只要a部分中herf的内容\n",
    "links_div[0].a.get('href')"
   ]
  },
  {
   "cell_type": "code",
   "execution_count": 11,
   "metadata": {
    "collapsed": false,
    "scrolled": true
   },
   "outputs": [
    {
     "data": {
      "text/plain": [
       "(['https://bj.lianjia.com/zufang/101102950195.html',\n",
       "  'https://bj.lianjia.com/zufang/101102947992.html',\n",
       "  'https://bj.lianjia.com/zufang/101102910146.html',\n",
       "  'https://bj.lianjia.com/zufang/101102912955.html',\n",
       "  'https://bj.lianjia.com/zufang/101102946758.html',\n",
       "  'https://bj.lianjia.com/zufang/101102938990.html',\n",
       "  'https://bj.lianjia.com/zufang/101102942601.html',\n",
       "  'https://bj.lianjia.com/zufang/101102996398.html',\n",
       "  'https://bj.lianjia.com/zufang/101103014033.html',\n",
       "  'https://bj.lianjia.com/zufang/101102994627.html',\n",
       "  'https://bj.lianjia.com/zufang/101101774488.html',\n",
       "  'https://bj.lianjia.com/zufang/101102909655.html',\n",
       "  'https://bj.lianjia.com/zufang/101102880539.html',\n",
       "  'https://bj.lianjia.com/zufang/101102684700.html',\n",
       "  'https://bj.lianjia.com/zufang/101102839279.html',\n",
       "  'https://bj.lianjia.com/zufang/101102790207.html',\n",
       "  'https://bj.lianjia.com/zufang/101102643867.html',\n",
       "  'https://bj.lianjia.com/zufang/101102597979.html',\n",
       "  'https://bj.lianjia.com/zufang/101102724993.html',\n",
       "  'https://bj.lianjia.com/zufang/101102874798.html',\n",
       "  'https://bj.lianjia.com/zufang/101102669361.html',\n",
       "  'https://bj.lianjia.com/zufang/101102785265.html',\n",
       "  'https://bj.lianjia.com/zufang/101102811942.html',\n",
       "  'https://bj.lianjia.com/zufang/101102743002.html',\n",
       "  'https://bj.lianjia.com/zufang/101102886525.html',\n",
       "  'https://bj.lianjia.com/zufang/101102829684.html',\n",
       "  'https://bj.lianjia.com/zufang/101102634980.html',\n",
       "  'https://bj.lianjia.com/zufang/101102794111.html',\n",
       "  'https://bj.lianjia.com/zufang/101102921591.html',\n",
       "  'https://bj.lianjia.com/zufang/101102925062.html'],\n",
       " 30)"
      ]
     },
     "execution_count": 11,
     "metadata": {},
     "output_type": "execute_result"
    }
   ],
   "source": [
    "# 查看\n",
    "links,len(links)"
   ]
  },
  {
   "cell_type": "markdown",
   "metadata": {},
   "source": [
    "- 将以上编程封装成函数"
   ]
  },
  {
   "cell_type": "code",
   "execution_count": 12,
   "metadata": {
    "collapsed": false
   },
   "outputs": [
    {
     "data": {
      "text/plain": [
       "['https://bj.lianjia.com/zufang/101102950195.html',\n",
       " 'https://bj.lianjia.com/zufang/101102947992.html',\n",
       " 'https://bj.lianjia.com/zufang/101102910146.html',\n",
       " 'https://bj.lianjia.com/zufang/101102912955.html',\n",
       " 'https://bj.lianjia.com/zufang/101102946758.html',\n",
       " 'https://bj.lianjia.com/zufang/101102938990.html',\n",
       " 'https://bj.lianjia.com/zufang/101102942601.html',\n",
       " 'https://bj.lianjia.com/zufang/101102996398.html',\n",
       " 'https://bj.lianjia.com/zufang/101103014033.html',\n",
       " 'https://bj.lianjia.com/zufang/101102994627.html',\n",
       " 'https://bj.lianjia.com/zufang/101101774488.html',\n",
       " 'https://bj.lianjia.com/zufang/101102909655.html',\n",
       " 'https://bj.lianjia.com/zufang/101102880539.html',\n",
       " 'https://bj.lianjia.com/zufang/101102684700.html',\n",
       " 'https://bj.lianjia.com/zufang/101102839279.html',\n",
       " 'https://bj.lianjia.com/zufang/101102790207.html',\n",
       " 'https://bj.lianjia.com/zufang/101102643867.html',\n",
       " 'https://bj.lianjia.com/zufang/101102597979.html',\n",
       " 'https://bj.lianjia.com/zufang/101102724993.html',\n",
       " 'https://bj.lianjia.com/zufang/101102874798.html',\n",
       " 'https://bj.lianjia.com/zufang/101102669361.html',\n",
       " 'https://bj.lianjia.com/zufang/101102785265.html',\n",
       " 'https://bj.lianjia.com/zufang/101102811942.html',\n",
       " 'https://bj.lianjia.com/zufang/101102743002.html',\n",
       " 'https://bj.lianjia.com/zufang/101102886525.html',\n",
       " 'https://bj.lianjia.com/zufang/101102829684.html',\n",
       " 'https://bj.lianjia.com/zufang/101102634980.html',\n",
       " 'https://bj.lianjia.com/zufang/101102794111.html',\n",
       " 'https://bj.lianjia.com/zufang/101102921591.html',\n",
       " 'https://bj.lianjia.com/zufang/101102925062.html']"
      ]
     },
     "execution_count": 12,
     "metadata": {},
     "output_type": "execute_result"
    }
   ],
   "source": [
    "# 封装成函数，以获取列表页下的所有租房页面链接，返回链接列表\n",
    "def get_links(link_url):\n",
    "    responce = requests.get(url)\n",
    "    soup = BeautifulSoup(responce.text,'lxml')\n",
    "    links_div = soup.find_all('div',class_=\"pic-panel\")\n",
    "    links = [div.a.get('href') for div in links_div]\n",
    "    return links\n",
    "\n",
    "link_url ='https://bj.lianjia.com/zufang/'\n",
    "get_links(link_url)"
   ]
  },
  {
   "cell_type": "code",
   "execution_count": 13,
   "metadata": {
    "collapsed": false
   },
   "outputs": [],
   "source": [
    "# 获取URL下的页面内容，返回soup对象\n",
    "def get_page(url):\n",
    "    response = requests.get(url)\n",
    "    soup = BeautifulSoup(response.text,'lxml')\n",
    "    return soup\n",
    "\n",
    "# 封装成函数，以获取列表页下的所有租房页面链接，返回链接列\n",
    "def get_links(link_url):\n",
    "    soup = get_page(link_url)\n",
    "    links_div = soup.find_all('div',class_=\"pic-panel\")\n",
    "    links = [div.a.get('href') for div in links_div]\n",
    "    return links\n",
    "\n",
    "def get_house_info(house_url):\n",
    "    house_url = 'https://bj.lianjia.com/zufang/101101798181.html'\n",
    "    soup = get_page(house_url)\n",
    "\n",
    "    price = soup.find('span',class_='total').text\n",
    "    unit = soup.find('span',class_='unit').text.strip()#剔除换行符和空格\n",
    "\n",
    "    house_info = soup.find_all('p')\n",
    "    area = house_info[0].text[3:]\n",
    "    layout = house_info[1].text[5:]\n",
    "    floor = house_info[2].text[3:]\n",
    "    direction = house_info[3].text[5:]\n",
    "    subway = house_info[4].text[3:]\n",
    "    community = house_info[5].text[3:]\n",
    "    location = house_info[6].text[3:]\n",
    "    create_time = house_info[7].text[3:]\n",
    "    agent = soup.find('a',class_='name LOGCLICK')\n",
    "    agent_name = agent.text\n",
    "    agent_id = agent.get('data-el')\n",
    "    evaluate = soup.find('div',class_='evaluate')\n",
    "    score, number = evaluate.find('span',class_='rate').text.split('/')\n",
    "    times = evaluate.find('span',class_='time').text[5:-1]\n",
    "    info = {\n",
    "        \"价格\": price,\n",
    "        '单位': unit,\n",
    "        '面积': area,\n",
    "        '户型': layout,\n",
    "        '楼层': floor,\n",
    "        '朝向': direction,\n",
    "        '发布时间': create_time,\n",
    "        '地铁': subway,\n",
    "        '小区': community,\n",
    "        '位置': location,\n",
    "        '经纪人名字': agent_name,\n",
    "        '经纪人ID': agent_id,\n",
    "    }\n",
    "    return info\n",
    "                   "
   ]
  },
  {
   "cell_type": "code",
   "execution_count": 17,
   "metadata": {
    "collapsed": false
   },
   "outputs": [
    {
     "data": {
      "text/plain": [
       "{'\\xe4\\xbb\\xb7\\xe6\\xa0\\xbc': u'7300',\n",
       " '\\xe4\\xbd\\x8d\\xe7\\xbd\\xae': u'\\u897f\\u57ce \\u6708\\u575b',\n",
       " '\\xe5\\x8d\\x95\\xe4\\xbd\\x8d': u'\\u5143/\\u6708',\n",
       " '\\xe5\\x8f\\x91\\xe5\\xb8\\x83\\xe6\\x97\\xb6\\xe9\\x97\\xb4': u'367\\u5929\\u524d\\u53d1\\u5e03',\n",
       " '\\xe5\\x9c\\xb0\\xe9\\x93\\x81': u'\\u8ddd\\u5730\\u94c12\\u53f7\\u7ebf\\u961c\\u6210\\u95e81193\\u7c73',\n",
       " '\\xe5\\xb0\\x8f\\xe5\\x8c\\xba': u'\\u4e09\\u91cc\\u6cb3\\u4e1c\\u8def\\n            - 3\\u5957\\u51fa\\u79df\\u4e2d',\n",
       " '\\xe6\\x88\\xb7\\xe5\\x9e\\x8b': u'2\\u5ba41\\u53851\\u536b  \\u6574\\u79df',\n",
       " '\\xe6\\x9c\\x9d\\xe5\\x90\\x91': u'\\u897f',\n",
       " '\\xe6\\xa5\\xbc\\xe5\\xb1\\x82': u'\\u9ad8\\u697c\\u5c42 (\\u517112\\u5c42)',\n",
       " '\\xe7\\xbb\\x8f\\xe7\\xba\\xaa\\xe4\\xba\\xbaID': '1000000020076345',\n",
       " '\\xe7\\xbb\\x8f\\xe7\\xba\\xaa\\xe4\\xba\\xba\\xe5\\x90\\x8d\\xe5\\xad\\x97': u'\\u738b\\u4f70\\u6743',\n",
       " '\\xe9\\x9d\\xa2\\xe7\\xa7\\xaf': u'81.5\\u5e73\\u7c73'}"
      ]
     },
     "execution_count": 17,
     "metadata": {},
     "output_type": "execute_result"
    }
   ],
   "source": [
    "get_house_info('https://bj.lianjia.com/zufang/101101798181.html')"
   ]
  },
  {
   "cell_type": "code",
   "execution_count": 15,
   "metadata": {
    "collapsed": false
   },
   "outputs": [
    {
     "data": {
      "text/plain": [
       "[<p>\\u5317\\u4eac\\u79df\\u623f\\u4fe1\\u606f</p>,\n",
       " <p>\\u94fe\\u5bb6\\u7f51\\u5317\\u4eac\\u7ad9\\u5317\\u4eac\\u79df\\u623f\\u9891\\u9053\\u63d0\\u4f9b\\u771f\\u5b9e\\u3001\\u65f6\\u65f6\\u7684\\u5317\\u4eac\\u79df\\u623f\\u623f\\u6e90\\u4fe1\\u606f\\uff0c\\u5317\\u4eac\\u79df\\u623f\\u623f\\u6e90\\u76ee\\u524d\\u4e3a8672\\u5957\\uff0c\\u5168\\u90e8\\u7531\\u7ebf\\u4e0b\\u7ecf\\u7eaa\\u4eba\\u786e\\u8ba4\\u6838\\u5b9e\\u4e0a\\u4f20\\uff0c\\u4fe1\\u606f\\u53ef\\u9760\\uff0c\\u5317\\u4eac\\u79df\\u623f\\u7528\\u6237\\u53ef\\u4ee5\\u5728\\u94fe\\u5bb6\\u7f51\\u5317\\u4eac\\u79df\\u623f\\u9891\\u9053\\u548c\\u5317\\u4eac\\u79df\\u623f\\u9891\\u9053\\u79fb\\u52a8\\u7aef\\u6700\\u5feb\\u901f\\u3001\\u6700\\u53ca\\u65f6\\u7684\\u627e\\u5230\\u81ea\\u5df1\\u60f3\\u8981\\u7684\\u771f\\u5b9e\\u3001\\u653e\\u5fc3\\u623f\\u6e90\\u3002\\u94fe\\u5bb6\\u7f51\\u5317\\u4eac\\u79df\\u623f\\u5e73\\u53f0\\uff0c\\u771f\\u623f\\u6e90\\uff0c\\u5982\\u4f60\\u6240\\u89c1\\uff01</p>,\n",
       " <p></p>,\n",
       " <p style=\"float:left;height:20px;line-height:20px;margin: 0px 0px 0px 5px;color: #888c8e;\">\\u4eac\\u516c\\u7f51\\u5b89\\u5907 11010802024019\\u53f7</p>]"
      ]
     },
     "execution_count": 15,
     "metadata": {},
     "output_type": "execute_result"
    }
   ],
   "source": [
    "# 测试行\n",
    "house_info = soup.find_all('p')\n",
    "aa = house_info\n",
    "aa"
   ]
  },
  {
   "cell_type": "code",
   "execution_count": 20,
   "metadata": {
    "collapsed": false
   },
   "outputs": [
    {
     "name": "stdout",
     "output_type": "stream",
     "text": [
      "[<p>北京租房信息</p>, <p>链家网北京站北京租房频道提供真实、时时的北京租房房源信息，北京租房房源目前为8672套，全部由线下经纪人确认核实上传，信息可靠，北京租房用户可以在链家网北京租房频道和北京租房频道移动端最快速、最及时的找到自己想要的真实、放心房源。链家网北京租房平台，真房源，如你所见！</p>, <p></p>, <p style=\"float:left;height:20px;line-height:20px;margin: 0px 0px 0px 5px;color: #888c8e;\">京公网安备 11010802024019号</p>]\n"
     ]
    }
   ],
   "source": [
    "# 转译成中文\n",
    "print(repr(aa).decode('unicode-escape'))"
   ]
  },
  {
   "cell_type": "code",
   "execution_count": 21,
   "metadata": {
    "collapsed": true
   },
   "outputs": [],
   "source": [
    "import sys"
   ]
  },
  {
   "cell_type": "code",
   "execution_count": 22,
   "metadata": {
    "collapsed": true
   },
   "outputs": [],
   "source": [
    "reload(sys)"
   ]
  },
  {
   "cell_type": "code",
   "execution_count": 23,
   "metadata": {
    "collapsed": false
   },
   "outputs": [],
   "source": [
    "sys.setdefaultencoding('utf-8') "
   ]
  },
  {
   "cell_type": "code",
   "execution_count": 24,
   "metadata": {
    "collapsed": false
   },
   "outputs": [
    {
     "data": {
      "text/plain": [
       "'mbcs'"
      ]
     },
     "execution_count": 24,
     "metadata": {},
     "output_type": "execute_result"
    }
   ],
   "source": [
    "sys.getfilesystemencoding()"
   ]
  }
 ],
 "metadata": {
  "kernelspec": {
   "display_name": "Python 2",
   "language": "python",
   "name": "python2"
  },
  "language_info": {
   "codemirror_mode": {
    "name": "ipython",
    "version": 2
   },
   "file_extension": ".py",
   "mimetype": "text/x-python",
   "name": "python",
   "nbconvert_exporter": "python",
   "pygments_lexer": "ipython2",
   "version": "2.7.13"
  }
 },
 "nbformat": 4,
 "nbformat_minor": 2
}
