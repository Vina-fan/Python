{
 "cells": [
  {
   "cell_type": "markdown",
   "metadata": {},
   "source": [
    "### Import 库  \n",
    "- 方法一：  \n",
    "from <库名> Import <函数名>  \n",
    "from <库名> Import *\n",
    "- 方法二：（不会出现函数重名的问题）  \n",
    "Import <库名>  \n",
    "<库名>.<函数名>\n",
    "- 建议 使用as保留字的方法：  \n",
    "Import<库名> as <库别名>  \n",
    "<库别名>.<函数名>"
   ]
  },
  {
   "cell_type": "markdown",
   "metadata": {},
   "source": [
    "### Random库"
   ]
  },
  {
   "cell_type": "code",
   "execution_count": 1,
   "metadata": {},
   "outputs": [],
   "source": [
    "import random"
   ]
  },
  {
   "cell_type": "code",
   "execution_count": 2,
   "metadata": {},
   "outputs": [
    {
     "data": {
      "text/plain": [
       "0.5714025946899135"
      ]
     },
     "execution_count": 2,
     "metadata": {},
     "output_type": "execute_result"
    }
   ],
   "source": [
    "# 只要种子相同，可以再现随机数\n",
    "random.seed(10)\n",
    "random.random()"
   ]
  },
  {
   "cell_type": "code",
   "execution_count": 3,
   "metadata": {},
   "outputs": [
    {
     "data": {
      "text/plain": [
       "0.5714025946899135"
      ]
     },
     "execution_count": 3,
     "metadata": {},
     "output_type": "execute_result"
    }
   ],
   "source": [
    "random.seed(10)\n",
    "random.random()"
   ]
  },
  {
   "cell_type": "code",
   "execution_count": 4,
   "metadata": {},
   "outputs": [
    {
     "data": {
      "text/plain": [
       "0.4288890546751146"
      ]
     },
     "execution_count": 4,
     "metadata": {},
     "output_type": "execute_result"
    }
   ],
   "source": [
    "random.random()"
   ]
  },
  {
   "cell_type": "code",
   "execution_count": 5,
   "metadata": {},
   "outputs": [
    {
     "data": {
      "text/plain": [
       "62"
      ]
     },
     "execution_count": 5,
     "metadata": {},
     "output_type": "execute_result"
    }
   ],
   "source": [
    "# 生成10-100之间的随机整数\n",
    "random.randint(10,100)"
   ]
  },
  {
   "cell_type": "code",
   "execution_count": 15,
   "metadata": {},
   "outputs": [
    {
     "data": {
      "text/plain": [
       "80"
      ]
     },
     "execution_count": 15,
     "metadata": {},
     "output_type": "execute_result"
    }
   ],
   "source": [
    "# 生成10-100之间以10为步长的随机整数\n",
    "random.randrange(10,100,10)"
   ]
  },
  {
   "cell_type": "code",
   "execution_count": 16,
   "metadata": {},
   "outputs": [
    {
     "data": {
      "text/plain": [
       "42825L"
      ]
     },
     "execution_count": 16,
     "metadata": {},
     "output_type": "execute_result"
    }
   ],
   "source": [
    "# 生成k比特长的随机整数\n",
    "random.getrandbits(16)"
   ]
  },
  {
   "cell_type": "code",
   "execution_count": 17,
   "metadata": {},
   "outputs": [
    {
     "data": {
      "text/plain": [
       "82.95569102779523"
      ]
     },
     "execution_count": 17,
     "metadata": {},
     "output_type": "execute_result"
    }
   ],
   "source": [
    "# 生成10-100之间的随机小数\n",
    "random.uniform(10,100)"
   ]
  },
  {
   "cell_type": "code",
   "execution_count": 10,
   "metadata": {},
   "outputs": [
    {
     "data": {
      "text/plain": [
       "2"
      ]
     },
     "execution_count": 10,
     "metadata": {},
     "output_type": "execute_result"
    }
   ],
   "source": [
    "# 从序列中随机选择一个元素\n",
    "random.choice([1,2,3,4,5,6,7,8])"
   ]
  },
  {
   "cell_type": "code",
   "execution_count": 19,
   "metadata": {},
   "outputs": [
    {
     "name": "stdout",
     "output_type": "stream",
     "text": [
      "[4, 3, 8, 6, 2, 9, 7, 1, 5]\n"
     ]
    }
   ],
   "source": [
    "# 将序列元素随机排列并返回\n",
    "list = [1,2,3,4,5,6,7,8,9]\n",
    "random.shuffle(list)\n",
    "print(list)"
   ]
  },
  {
   "cell_type": "markdown",
   "metadata": {},
   "source": [
    "### turtle 库"
   ]
  },
  {
   "cell_type": "code",
   "execution_count": 1,
   "metadata": {},
   "outputs": [],
   "source": [
    "import turtle"
   ]
  },
  {
   "cell_type": "markdown",
   "metadata": {},
   "source": [
    "- 初始设置"
   ]
  },
  {
   "cell_type": "code",
   "execution_count": 2,
   "metadata": {},
   "outputs": [],
   "source": [
    "# 设置窗体大小及位置，位置默认在正中心\n",
    "# turtle.setup(width,height,startx,starty)  \n",
    "turtle.setup(800,800,0,0)"
   ]
  },
  {
   "cell_type": "markdown",
   "metadata": {},
   "source": [
    "- 绝对坐标&相对坐标"
   ]
  },
  {
   "cell_type": "code",
   "execution_count": 3,
   "metadata": {},
   "outputs": [],
   "source": [
    "# 绝对坐标(x,y),以海龟为原点\n",
    "turtle.goto(100,100)\n",
    "\n",
    "# 相对坐标\n",
    "# turtle.circle(r,angle) 以r为半径左转angle角度\n",
    "# turtle.fd(d) 向前（默认x轴）移动\n",
    "# turtle.bk(d)\n",
    "turtle.circle(100,45)\n",
    "turtle.fd(40)\n",
    "turtle.bk(50)"
   ]
  },
  {
   "cell_type": "markdown",
   "metadata": {},
   "source": [
    "- turtle画笔控制函数"
   ]
  },
  {
   "cell_type": "code",
   "execution_count": 5,
   "metadata": {},
   "outputs": [],
   "source": [
    "# turtle.penup()别名pu\n",
    "# turtle.pendown()别名pd\n",
    "# turtle.pensize(width)别名tuttle.width(width)\n",
    "# turtle.pencolor(color)"
   ]
  },
  {
   "cell_type": "markdown",
   "metadata": {},
   "source": [
    "其中color参数的三种形式：  \n",
    "1、小写的颜色字符串：turtle.pencolor(“purple”)  \n",
    "2、RGB小数值：turtle.pencolor(0.63,013,0.94)  \n",
    "3、RGB的元组值：turtle.pencolor((0.63,013,0.94))"
   ]
  },
  {
   "cell_type": "code",
   "execution_count": 4,
   "metadata": {},
   "outputs": [],
   "source": [
    "# RGB色彩控制函数，默认采用小数值，可以切换为整数值。\n",
    "# turtle.colormode(mode)\n",
    "# 1.0：RGB小数值模式\n",
    "# 255：RGB整数值模式"
   ]
  },
  {
   "cell_type": "markdown",
   "metadata": {},
   "source": [
    "- turtle运动控制函数"
   ]
  },
  {
   "cell_type": "code",
   "execution_count": 2,
   "metadata": {},
   "outputs": [],
   "source": [
    "# turtle.forward(d)   别名fd\n",
    "# turtle.backward(d)   别名bd"
   ]
  },
  {
   "cell_type": "code",
   "execution_count": 3,
   "metadata": {},
   "outputs": [],
   "source": [
    "# turtle.circle(r,extent=None)\n",
    "# 默认圆心在左侧，若r为负数，圆心在右侧\n",
    "# 默认角度为360°"
   ]
  },
  {
   "cell_type": "markdown",
   "metadata": {},
   "source": [
    "- turtle方向控制函数"
   ]
  },
  {
   "cell_type": "code",
   "execution_count": 9,
   "metadata": {},
   "outputs": [],
   "source": [
    "# 绝对角度，x正方向为0度\n",
    "# turtle.setheading(angle)，别名turtle.seth(angle)\n",
    "\n",
    "# 相对角度\n",
    "# turtle.left(angle)\n",
    "# turtle.right(angle)"
   ]
  },
  {
   "cell_type": "markdown",
   "metadata": {},
   "source": [
    "- 经常使用for循环"
   ]
  },
  {
   "cell_type": "markdown",
   "metadata": {},
   "source": [
    "### turtle自动轨迹绘制"
   ]
  },
  {
   "cell_type": "code",
   "execution_count": 1,
   "metadata": {},
   "outputs": [],
   "source": [
    "import turtle as t\n",
    "t.title(\"自动轨迹绘制\") # 标题栏\n",
    "t.setup(800,600,0,0)\n",
    "t.pencolor('red')\n",
    "t.pensize(5)\n",
    "# 数据读取\n",
    "datals = []#建立空列表\n",
    "f = open(\"D:/Vina_test/data.txt\") # txt文件为ANSI编码\n",
    "for line in f:\n",
    "    line = line.replace(\"\\n\",\"\")#去掉换行信息\n",
    "    datals.append(list(map(eval,line.split(\",\"))))# 去掉引号并生成列表\n",
    "# map函数，将第一个元素功能作用于第二个元素\n",
    "f.close()\n",
    "# 自动绘制\n",
    "for i in range(len(datals)):\n",
    "    t.pencolor(datals[i][3],datals[i][4],datals[i][5])\n",
    "    t.fd(datals[i][0])\n",
    "    if datals[i][1]:\n",
    "         t.right(datals[i][2])\n",
    "    else:\n",
    "         t.left(datals[i][2])"
   ]
  },
  {
   "cell_type": "markdown",
   "metadata": {},
   "source": [
    "### Time库"
   ]
  },
  {
   "cell_type": "code",
   "execution_count": 2,
   "metadata": {},
   "outputs": [],
   "source": [
    "import time"
   ]
  },
  {
   "cell_type": "markdown",
   "metadata": {},
   "source": [
    "- 时间获取"
   ]
  },
  {
   "cell_type": "code",
   "execution_count": 6,
   "metadata": {},
   "outputs": [
    {
     "data": {
      "text/plain": [
       "1532568887.0159051"
      ]
     },
     "execution_count": 6,
     "metadata": {},
     "output_type": "execute_result"
    }
   ],
   "source": [
    "# 获取当前时间戳（计算机内部时间值）\n",
    "# 从1970年1月1日0点开始到现在以秒为单位的浮点数\n",
    "time.time()"
   ]
  },
  {
   "cell_type": "code",
   "execution_count": 9,
   "metadata": {},
   "outputs": [
    {
     "data": {
      "text/plain": [
       "'Thu Jul 26 09:37:04 2018'"
      ]
     },
     "execution_count": 9,
     "metadata": {},
     "output_type": "execute_result"
    }
   ],
   "source": [
    "# 获取当前时间（便于理解的字符串时间）\n",
    "time.ctime()"
   ]
  },
  {
   "cell_type": "code",
   "execution_count": 8,
   "metadata": {},
   "outputs": [
    {
     "data": {
      "text/plain": [
       "time.struct_time(tm_year=2018, tm_mon=7, tm_mday=26, tm_hour=1, tm_min=36, tm_sec=34, tm_wday=3, tm_yday=207, tm_isdst=0)"
      ]
     },
     "execution_count": 8,
     "metadata": {},
     "output_type": "execute_result"
    }
   ],
   "source": [
    "# 获取当前时间（计算机可处理的时间格式）\n",
    "time.gmtime()"
   ]
  },
  {
   "cell_type": "markdown",
   "metadata": {},
   "source": [
    "- 时间格式化"
   ]
  },
  {
   "cell_type": "code",
   "execution_count": 11,
   "metadata": {},
   "outputs": [
    {
     "data": {
      "text/plain": [
       "'2018-07-26 01:41:22'"
      ]
     },
     "execution_count": 11,
     "metadata": {},
     "output_type": "execute_result"
    }
   ],
   "source": [
    "# strftime(tpl,ts) 给出模板tpl和时间变量ts，定义输出效果\n",
    "t = time.gmtime()\n",
    "time.strftime(\"%Y-%m-%d %H:%M:%S\",t)"
   ]
  },
  {
   "cell_type": "markdown",
   "metadata": {},
   "source": [
    "|格式化字符串|日期/时间说明|范围|\n",
    "|---|---|------|\n",
    "|%Y|年份|0000~9999|\n",
    "|%m|月份|01~12|\n",
    "|%B|月份名称|January~December|\n",
    "|%b|月份名称缩写|Jan~Dec|\n",
    "|%d|日期|01~31|\n",
    "|%A|星期|Monday~Sunday|\n",
    "|%a|星期缩写|Mon~Sun|\n",
    "|%H|24h制|00~23|\n",
    "|%h|12h制|01~12|\n",
    "|%p|上/下午|AM,PM|\n",
    "|%M|分钟|00~59|\n",
    "|%S|秒|00~59|"
   ]
  },
  {
   "cell_type": "code",
   "execution_count": 12,
   "metadata": {},
   "outputs": [
    {
     "data": {
      "text/plain": [
       "time.struct_time(tm_year=2018, tm_mon=7, tm_mday=26, tm_hour=1, tm_min=41, tm_sec=22, tm_wday=3, tm_yday=207, tm_isdst=-1)"
      ]
     },
     "execution_count": 12,
     "metadata": {},
     "output_type": "execute_result"
    }
   ],
   "source": [
    "# strptime(str,tpl) 其中str是字符串形式的时间值，tpl是格式化模板字符串\n",
    "timeStr = '2018-07-26 01:41:22'\n",
    "time.strptime(timeStr,\"%Y-%m-%d %H:%M:%S\")"
   ]
  },
  {
   "cell_type": "markdown",
   "metadata": {},
   "source": [
    "- 程序计时"
   ]
  },
  {
   "cell_type": "code",
   "execution_count": 14,
   "metadata": {},
   "outputs": [
    {
     "data": {
      "text/plain": [
       "3.279013641588335e-05"
      ]
     },
     "execution_count": 14,
     "metadata": {},
     "output_type": "execute_result"
    }
   ],
   "source": [
    "# perf_counter() 测量时间，起点不准确，单位是秒。需要连续调用\n",
    "start = time.perf_counter()\n",
    "end = time.perf_counter()\n",
    "end - start"
   ]
  },
  {
   "cell_type": "code",
   "execution_count": 15,
   "metadata": {},
   "outputs": [],
   "source": [
    "# sleep(s) s拟休眠时间，单位是秒，可以是浮点数\n",
    "def wait():\n",
    "    time.sleep(3.3)\n",
    "wait()"
   ]
  },
  {
   "cell_type": "markdown",
   "metadata": {},
   "source": [
    "- 文本进度实例"
   ]
  },
  {
   "cell_type": "code",
   "execution_count": 18,
   "metadata": {},
   "outputs": [
    {
     "name": "stdout",
     "output_type": "stream",
     "text": [
      "100%"
     ]
    }
   ],
   "source": [
    "# 文本进度，单行动态刷新\n",
    "import time\n",
    "for i in range(101):\n",
    "    print(\"\\r{:3}%\".format(i),end=\"\")\n",
    "    time.sleep(0.1)"
   ]
  },
  {
   "cell_type": "code",
   "execution_count": 20,
   "metadata": {
    "scrolled": true
   },
   "outputs": [
    {
     "name": "stdout",
     "output_type": "stream",
     "text": [
      "-----------执行开始----------\n",
      "100%[**************************************************->]5.09s\n",
      "-----------执行结束----------\n"
     ]
    }
   ],
   "source": [
    "import time\n",
    "scale = 50\n",
    "print(\"执行开始\".center(scale//2,\"-\"))\n",
    "start = time.perf_counter()# 计时\n",
    "for i in range(scale+1):\n",
    "    a = '*' * i\n",
    "    b = '.' * (scale - i)\n",
    "    c = (i/scale)*100\n",
    "    dur = time.perf_counter()-start\n",
    "    print(\"\\r{:^3.0f}%[{}->{}]{:.2f}s\".format(c,a,b,dur),end='')\n",
    "    time.sleep(0.1)\n",
    "print(\"\\n\"+\"执行结束\".center(scale//2,\"-\"))"
   ]
  },
  {
   "cell_type": "markdown",
   "metadata": {
    "collapsed": true
   },
   "source": [
    "### Pyinstaller第三方库（.py打包生成.exe可执行文件）\n",
    "\n",
    "- 在cmd中安装：pip install pyinstaller  \n",
    "- 安装后，用cmd命令行cd到源代码所在目录下：  \n",
    "  pyinstaller -h 帮助  \n",
    "  pyinstaller --clean清理打包过程中的临时文件  \n",
    "  pyinstaller -D XXXX.py后文件默认保存在dist中（不建议）  \n",
    "  pyinstaller -F XXXX.py后文件保存在dist中，生成独立的打包文件  \n",
    "  pyinstaller --\n",
    "  pyinstaller -i 文件名.ico -F 文件名.py 指定图标文件   \n",
    "  （pyinstaller -i curve.ico -F XXXXX.py）\n",
    "\n",
    "- 打包后，不需python和pyinstaller直接在Windows打开即可执行"
   ]
  }
 ],
 "metadata": {
  "kernelspec": {
   "display_name": "Python 3",
   "language": "python",
   "name": "python3"
  },
  "language_info": {
   "codemirror_mode": {
    "name": "ipython",
    "version": 3
   },
   "file_extension": ".py",
   "mimetype": "text/x-python",
   "name": "python",
   "nbconvert_exporter": "python",
   "pygments_lexer": "ipython3",
   "version": "3.6.5"
  }
 },
 "nbformat": 4,
 "nbformat_minor": 2
}
