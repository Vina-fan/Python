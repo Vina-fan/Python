{
 "cells": [
  {
   "cell_type": "markdown",
   "metadata": {},
   "source": [
    "## jieba第三方库\n",
    "\n",
    "- 利用中文词库，确定汉字关联概率。\n",
    "- 汉字间概率大的组成词组，确定分词结果。\n",
    "\n",
    "- 在cmd中安装：pip install jieba  "
   ]
  },
  {
   "cell_type": "markdown",
   "metadata": {},
   "source": [
    "- 精确模式lcut：精确分开，不存在冗余单词（最常用）  \n",
    "- 全模式：扫描所有可能词语，有冗余  \n",
    "- 搜索引擎：在精确模式基础上，对长词进行切分（在特定场合常用）"
   ]
  },
  {
   "cell_type": "code",
   "execution_count": 1,
   "metadata": {},
   "outputs": [],
   "source": [
    "import jieba"
   ]
  },
  {
   "cell_type": "code",
   "execution_count": 2,
   "metadata": {},
   "outputs": [
    {
     "name": "stderr",
     "output_type": "stream",
     "text": [
      "Building prefix dict from the default dictionary ...\n",
      "Loading model from cache C:\\Users\\admin\\AppData\\Local\\Temp\\jieba.cache\n",
      "Loading model cost 0.847 seconds.\n",
      "Prefix dict has been built succesfully.\n"
     ]
    },
    {
     "data": {
      "text/plain": [
       "['中国', '是', '一个', '伟大', '的', '国家']"
      ]
     },
     "execution_count": 2,
     "metadata": {},
     "output_type": "execute_result"
    }
   ],
   "source": [
    "# 精确模式\n",
    "ls = '中国是一个伟大的国家'\n",
    "jieba.lcut(ls)"
   ]
  },
  {
   "cell_type": "code",
   "execution_count": 3,
   "metadata": {},
   "outputs": [
    {
     "data": {
      "text/plain": [
       "['中国', '国是', '一个', '伟大', '的', '国家']"
      ]
     },
     "execution_count": 3,
     "metadata": {},
     "output_type": "execute_result"
    }
   ],
   "source": [
    "# 全模式\n",
    "jieba.lcut(ls,cut_all=True)"
   ]
  },
  {
   "cell_type": "code",
   "execution_count": 4,
   "metadata": {},
   "outputs": [
    {
     "data": {
      "text/plain": [
       "['中国', '是', '一个', '伟大', '的', '国家']"
      ]
     },
     "execution_count": 4,
     "metadata": {},
     "output_type": "execute_result"
    }
   ],
   "source": [
    "# 搜索引擎模式\n",
    "jieba.lcut_for_search(ls)"
   ]
  },
  {
   "cell_type": "code",
   "execution_count": 5,
   "metadata": {},
   "outputs": [
    {
     "data": {
      "text/plain": [
       "['中华', '华人', '人民', '共和', '共和国', '中华人民共和国', '是', '伟大', '的']"
      ]
     },
     "execution_count": 5,
     "metadata": {},
     "output_type": "execute_result"
    }
   ],
   "source": [
    "jieba.lcut_for_search(\"中华人民共和国是伟大的\")"
   ]
  },
  {
   "cell_type": "code",
   "execution_count": 6,
   "metadata": {},
   "outputs": [],
   "source": [
    "# 向分析词典增加新词w\n",
    "jieba.add_word(\"蟒蛇语言\")"
   ]
  },
  {
   "cell_type": "markdown",
   "metadata": {},
   "source": [
    "- 英文词频统计：去除标点符号、大小写干扰。"
   ]
  },
  {
   "cell_type": "code",
   "execution_count": 7,
   "metadata": {},
   "outputs": [
    {
     "name": "stdout",
     "output_type": "stream",
     "text": [
      "the        1142\n",
      "and         964\n",
      "to          744\n",
      "of          668\n",
      "i           625\n",
      "a           531\n",
      "you         526\n",
      "my          513\n",
      "hamlet      461\n",
      "in          449\n"
     ]
    }
   ],
   "source": [
    "def getText():\n",
    "    txt = open(\"D:/Vina_test/hamlet.txt\",\"r\").read()  # 读取txt数据\n",
    "    txt = txt.lower() # 去除大小写干扰\n",
    "    for ch in \"!'#$%()*<+,.~`_>?/@[\\\\]{}^&~|\\‘’\":\n",
    "        txt = txt.replace(ch,\" \")  # 去除标点符号干扰，将特殊符号替换为空格\n",
    "    return txt\n",
    "\n",
    "hamletTxt = getText()\n",
    "words = hamletTxt.split()#默认用空格分开，返回列表\n",
    "# 字典表词&词频对应关系\n",
    "counts = {}\n",
    "for word in words:\n",
    "    #counts.get从字典中获得该word键的次数，并+1.若不存在，新增该键并返回0\n",
    "    counts[word] = counts.get(word,0) +1\n",
    "items = list(counts.items())#字典类型转换为列表类型便于操作\n",
    "items.sort(key=lambda x:x[1],reverse = True) #按第二个键值，，默认从小到大，reverse(True)从大到小排序\n",
    "for i in range(10):\n",
    "    word,count = items[i] # 赋值\n",
    "    print(\"{0:<10}{1:>5}\".format(word,count))\n"
   ]
  },
  {
   "cell_type": "markdown",
   "metadata": {},
   "source": [
    "- 中文词频统计：不用考虑标点符号、大小写问题，首先分词"
   ]
  },
  {
   "cell_type": "code",
   "execution_count": 8,
   "metadata": {},
   "outputs": [
    {
     "name": "stdout",
     "output_type": "stream",
     "text": [
      "曹操          953\n",
      "孔明          836\n",
      "将军          772\n",
      "却说          656\n",
      "玄德          585\n",
      "关公          510\n",
      "丞相          491\n",
      "二人          469\n",
      "不可          440\n",
      "荆州          425\n",
      "玄德曰         390\n",
      "孔明曰         390\n",
      "不能          384\n",
      "如此          378\n",
      "张飞          358\n"
     ]
    }
   ],
   "source": [
    "import jieba \n",
    "txt = open(\"D:/Vina_test/threekingdoms.txt\",\"r\",encoding=\"utf-8\").read()  # 读取txt数据\n",
    "words = jieba.lcut(txt)\n",
    "counts={}\n",
    "for word in words:\n",
    "    if len(word) == 1:\n",
    "        continue\n",
    "    else:\n",
    "        counts[word] = counts.get(word,0) +1\n",
    "items = list(counts.items())  # 构造中文单词的列表\n",
    "items.sort(key=lambda x:x[1],reverse=True)\n",
    "for i in range(15):\n",
    "    word, count = items[i]\n",
    "    print(\"{0:<10}{1:>5}\".format(word,count))"
   ]
  },
  {
   "cell_type": "markdown",
   "metadata": {},
   "source": [
    "- 剔除无关词语"
   ]
  },
  {
   "cell_type": "code",
   "execution_count": 9,
   "metadata": {},
   "outputs": [
    {
     "name": "stdout",
     "output_type": "stream",
     "text": [
      "曹操         1451\n",
      "孔明         1383\n",
      "刘备         1252\n",
      "关羽          784\n",
      "张飞          358\n",
      "吕布          300\n",
      "赵云          278\n",
      "孙权          264\n",
      "司马懿         221\n",
      "周瑜          217\n"
     ]
    }
   ],
   "source": [
    "import jieba \n",
    "txt = open(\"D:/Vina_test/threekingdoms.txt\",\"r\",encoding=\"utf-8\").read()  # 读取txt数据\n",
    "# 多次尝试确定排除词库\n",
    "excludes ={\"主公\",\"一人\",\"不知\",\"人马\",\"都督\",\"今日\",\"魏兵\",\"陛下\",\"不敢\",\"引兵\",\"东吴\",\"于是\",\"大喜\",\"天下\",\"次日\",\"将军\",\"却说\",\"荆州\",\"二人\",\"不可\",\"不可\",\"不能\",\"如此\",\"左右\",\"如何\",\"商议\",\"军士\",'军马'}\n",
    "words = jieba.lcut(txt)\n",
    "counts={}\n",
    "# 名词关联\n",
    "for word in words:\n",
    "    if len(word) == 1:\n",
    "        continue\n",
    "    elif word ==\"诸葛亮\" or word == \"孔明曰\":\n",
    "        rword = \"孔明\"\n",
    "    elif word == \"关公\"  or word == \"云长\":\n",
    "        rword = \"关羽\"\n",
    "    elif word == \"孟德\"  or word == \"丞相\":\n",
    "        rword = \"曹操\"\n",
    "    elif word == \"玄德\"  or word == \"玄德曰\":\n",
    "        rword = \"刘备\"\n",
    "    else:\n",
    "        rword = word\n",
    "    counts[rword] = counts.get(rword,0) +1\n",
    "# 排除词库\n",
    "for word in excludes:\n",
    "    del counts[word]\n",
    "items = list(counts.items())  # 构造中文单词的列表\n",
    "items.sort(key=lambda x:x[1],reverse=True)\n",
    "for i in range(10):\n",
    "    word, count = items[i]\n",
    "    print(\"{0:<10}{1:>5}\".format(word,count))"
   ]
  },
  {
   "cell_type": "markdown",
   "metadata": {},
   "source": [
    "## 词云图"
   ]
  },
  {
   "cell_type": "markdown",
   "metadata": {},
   "source": [
    "- cmd中安装（c++14.0环境）：\n",
    "```\n",
    "pip install wordcloud\n",
    "```"
   ]
  },
  {
   "cell_type": "markdown",
   "metadata": {},
   "source": [
    "- wordcloud库小写，对象WordCloud大写  \n",
    "```\n",
    "w = wordcloud.WordCloud()   #生成词云对象w\n",
    "```"
   ]
  },
  {
   "cell_type": "markdown",
   "metadata": {},
   "source": [
    "|参数|描述|\n",
    "|-------------------|:------------------------------------|\n",
    "|width|图片宽度，默认400像素|\n",
    "|height|图片高度，默认200像素|\n",
    "|min_font_size|词云中最小字号，默认4号|\n",
    "|max_font_size|词云中最大字号，根据高度自动调节|\n",
    "|font_step|字体字号的步进间隔，默认为1|\n",
    "|font_path|指定字体文件路径，默认为None<br>如微软雅黑，font_path=\"msyh.ttc\"|\n",
    "|max_words|词云显示的最大单次数，默认200|\n",
    "|stopwords|排除词列表，不显示，stop_words={\"Python\"}|\n",
    "|mask|指定词云形状，默认长方形<br><p align=\"left\">>>>from scipy.misc import imread</p><br><p align=\"left\">>>>mk=imread(\"Vina.png\")</p><br><p align=\"left\">>>>w.wordcloud.WordCloud(mask=mk)</p>|\n",
    "|background_color|指定背景颜色，默认黑色<br><p lign=\"left\">>>>w.wordcloud.WordCloud(background_color = \"white\")</p>|"
   ]
  },
  {
   "cell_type": "markdown",
   "metadata": {},
   "source": [
    "|方法|描述|\n",
    "|-----------------------------:|--------------------------:|\n",
    "|w.generate(\"txt\")|向WordCloud对象w中加载文本txt|\n",
    "|w.to_file(\"png\")|输出词云图像为 .png或.jpg格式|"
   ]
  },
  {
   "cell_type": "markdown",
   "metadata": {},
   "source": [
    "- 按空格进行分割，过滤了频率较低或短小的字符，其余按频率分配字体字号\n",
    "- 英文不需要分词，中文需要分词"
   ]
  },
  {
   "cell_type": "code",
   "execution_count": 1,
   "metadata": {},
   "outputs": [
    {
     "data": {
      "text/plain": [
       "<wordcloud.wordcloud.WordCloud at 0x1d14aef7048>"
      ]
     },
     "execution_count": 1,
     "metadata": {},
     "output_type": "execute_result"
    }
   ],
   "source": [
    "import wordcloud\n",
    "c = wordcloud.WordCloud()\n",
    "c.generate(\"wordcloud by Python\")\n",
    "c.to_file('D:/Vina_test/wordcloud_test.jpg')"
   ]
  },
  {
   "cell_type": "markdown",
   "metadata": {},
   "source": [
    "- 对字符串"
   ]
  },
  {
   "cell_type": "code",
   "execution_count": 1,
   "metadata": {},
   "outputs": [
    {
     "name": "stderr",
     "output_type": "stream",
     "text": [
      "Building prefix dict from the default dictionary ...\n",
      "Loading model from cache C:\\Users\\admin\\AppData\\Local\\Temp\\jieba.cache\n",
      "Loading model cost 0.969 seconds.\n",
      "Prefix dict has been built succesfully.\n"
     ]
    },
    {
     "data": {
      "text/plain": [
       "<wordcloud.wordcloud.WordCloud at 0x291dcd584e0>"
      ]
     },
     "execution_count": 1,
     "metadata": {},
     "output_type": "execute_result"
    }
   ],
   "source": [
    "import jieba\n",
    "import wordcloud\n",
    "txt = '中央财经大学是教育部直属的、教育部、财政部和北京市共建的大学，是国家“双一流”建设、“211工程”建设和首批“优势学科创新平台”项目建设高校。'\n",
    "w = wordcloud.WordCloud(width=1000,height=700,font_path=\"msyh.ttc\")\n",
    "w.generate(\" \".join(jieba.lcut(txt)))#jieba分词后的列表元素，用空格连接，再赋给Wordcloud对象\n",
    "w.to_file(\"D:/Vina_test/中财词云.png\")"
   ]
  },
  {
   "cell_type": "markdown",
   "metadata": {},
   "source": [
    "- 对txt文件分词后制作词云"
   ]
  },
  {
   "cell_type": "code",
   "execution_count": 3,
   "metadata": {},
   "outputs": [
    {
     "data": {
      "text/plain": [
       "<wordcloud.wordcloud.WordCloud at 0x1d14aed8940>"
      ]
     },
     "execution_count": 3,
     "metadata": {},
     "output_type": "execute_result"
    }
   ],
   "source": [
    "import jieba\n",
    "import wordcloud\n",
    "f = open(\"D:/Vina_test/新时代中国特色社会主义.txt\",\"r\",encoding=\"utf-8\")\n",
    "t = f.read()\n",
    "f.close()\n",
    "ls = jieba.lcut(t)\n",
    "txt = \" \".join(ls)\n",
    "w = wordcloud.WordCloud(width=1000,height=700,font_path=\"msyh.ttc\",background_color = \"white\",max_words = 30)\n",
    "w.generate(txt)\n",
    "w.to_file(\"D:/Vina_test/新时代中国特色社会主义1.png\")"
   ]
  },
  {
   "cell_type": "code",
   "execution_count": 4,
   "metadata": {},
   "outputs": [
    {
     "data": {
      "text/plain": [
       "<wordcloud.wordcloud.WordCloud at 0x1d14d34c160>"
      ]
     },
     "execution_count": 4,
     "metadata": {},
     "output_type": "execute_result"
    }
   ],
   "source": [
    "import jieba\n",
    "import wordcloud\n",
    "f = open(\"D:/Vina_test/关于实施乡村振兴战略的意见.txt\",\"r\",encoding=\"utf-8\")\n",
    "t = f.read()\n",
    "f.close()\n",
    "ls = jieba.lcut(t)\n",
    "txt = \" \".join(ls)\n",
    "w = wordcloud.WordCloud(width=1000,height=700,font_path=\"msyh.ttc\",background_color = \"white\",max_words = 30)\n",
    "w.generate(txt)\n",
    "w.to_file(\"D:/Vina_test/关于实施乡村振兴战略的意见1.png\")"
   ]
  },
  {
   "cell_type": "markdown",
   "metadata": {},
   "source": [
    "- mask生成其他形状词云"
   ]
  },
  {
   "cell_type": "code",
   "execution_count": 5,
   "metadata": {},
   "outputs": [
    {
     "name": "stderr",
     "output_type": "stream",
     "text": [
      "D:\\Anaconda\\Anaconda3\\lib\\site-packages\\ipykernel_launcher.py:5: DeprecationWarning: `imread` is deprecated!\n",
      "`imread` is deprecated in SciPy 1.0.0, and will be removed in 1.2.0.\n",
      "Use ``imageio.imread`` instead.\n",
      "  \"\"\"\n"
     ]
    },
    {
     "data": {
      "text/plain": [
       "<wordcloud.wordcloud.WordCloud at 0x1d14d136898>"
      ]
     },
     "execution_count": 5,
     "metadata": {},
     "output_type": "execute_result"
    }
   ],
   "source": [
    "# 五角星\n",
    "import jieba\n",
    "import wordcloud\n",
    "from scipy.misc import imread\n",
    "mask = imread(\"D:/Vina_test/五角星.jpg\")\n",
    "f = open(\"D:/Vina_test/新时代中国特色社会主义.txt\",\"r\",encoding=\"utf-8\")\n",
    "t = f.read()\n",
    "f.close()\n",
    "ls = jieba.lcut(t)\n",
    "txt = \" \".join(ls)\n",
    "w = wordcloud.WordCloud(width=1000,height=700,font_path=\"msyh.ttc\",background_color = \"white\",mask = mask)\n",
    "w.generate(txt)\n",
    "w.to_file(\"D:/Vina_test/新时代中国特色社会主义2.png\")"
   ]
  },
  {
   "cell_type": "code",
   "execution_count": 6,
   "metadata": {},
   "outputs": [
    {
     "name": "stderr",
     "output_type": "stream",
     "text": [
      "D:\\Anaconda\\Anaconda3\\lib\\site-packages\\ipykernel_launcher.py:5: DeprecationWarning: `imread` is deprecated!\n",
      "`imread` is deprecated in SciPy 1.0.0, and will be removed in 1.2.0.\n",
      "Use ``imageio.imread`` instead.\n",
      "  \"\"\"\n"
     ]
    },
    {
     "data": {
      "text/plain": [
       "<wordcloud.wordcloud.WordCloud at 0x1d14cfbcd68>"
      ]
     },
     "execution_count": 6,
     "metadata": {},
     "output_type": "execute_result"
    }
   ],
   "source": [
    "# 五角星\n",
    "import jieba\n",
    "import wordcloud\n",
    "from scipy.misc import imread\n",
    "mask = imread(\"D:/Vina_test/五角星.jpg\")\n",
    "f = open(\"D:/Vina_test/关于实施乡村振兴战略的意见.txt\",\"r\",encoding=\"utf-8\")\n",
    "t = f.read()\n",
    "f.close()\n",
    "ls = jieba.lcut(t)\n",
    "txt = \" \".join(ls)\n",
    "w = wordcloud.WordCloud(width=1000,height=700,font_path=\"msyh.ttc\",background_color = \"white\",mask = mask)\n",
    "w.generate(txt)\n",
    "w.to_file(\"D:/Vina_test/关于实施乡村振兴战略的意见2.png\")"
   ]
  },
  {
   "cell_type": "code",
   "execution_count": 7,
   "metadata": {},
   "outputs": [
    {
     "name": "stderr",
     "output_type": "stream",
     "text": [
      "D:\\Anaconda\\Anaconda3\\lib\\site-packages\\ipykernel_launcher.py:5: DeprecationWarning: `imread` is deprecated!\n",
      "`imread` is deprecated in SciPy 1.0.0, and will be removed in 1.2.0.\n",
      "Use ``imageio.imread`` instead.\n",
      "  \"\"\"\n"
     ]
    },
    {
     "data": {
      "text/plain": [
       "<wordcloud.wordcloud.WordCloud at 0x1d14d34c400>"
      ]
     },
     "execution_count": 7,
     "metadata": {},
     "output_type": "execute_result"
    }
   ],
   "source": [
    "# 中国地图\n",
    "import jieba\n",
    "import wordcloud\n",
    "from scipy.misc import imread\n",
    "mask = imread(\"D:/Vina_test/中国地图.jpg\")\n",
    "f = open(\"D:/Vina_test/新时代中国特色社会主义.txt\",\"r\",encoding=\"utf-8\")\n",
    "t = f.read()\n",
    "f.close()\n",
    "ls = jieba.lcut(t)\n",
    "txt = \" \".join(ls)\n",
    "w = wordcloud.WordCloud(width=1000,height=700,font_path=\"msyh.ttc\",background_color = \"white\",mask = mask)\n",
    "w.generate(txt)\n",
    "w.to_file(\"D:/Vina_test/新时代中国特色社会主义3.png\")"
   ]
  },
  {
   "cell_type": "code",
   "execution_count": 8,
   "metadata": {},
   "outputs": [
    {
     "name": "stderr",
     "output_type": "stream",
     "text": [
      "D:\\Anaconda\\Anaconda3\\lib\\site-packages\\ipykernel_launcher.py:5: DeprecationWarning: `imread` is deprecated!\n",
      "`imread` is deprecated in SciPy 1.0.0, and will be removed in 1.2.0.\n",
      "Use ``imageio.imread`` instead.\n",
      "  \"\"\"\n"
     ]
    },
    {
     "data": {
      "text/plain": [
       "<wordcloud.wordcloud.WordCloud at 0x1d14d17fba8>"
      ]
     },
     "execution_count": 8,
     "metadata": {},
     "output_type": "execute_result"
    }
   ],
   "source": [
    "# 中国地图\n",
    "import jieba\n",
    "import wordcloud\n",
    "from scipy.misc import imread\n",
    "mask = imread(\"D:/Vina_test/中国地图.jpg\")\n",
    "f = open(\"D:/Vina_test/关于实施乡村振兴战略的意见.txt\",\"r\",encoding=\"utf-8\")\n",
    "t = f.read()\n",
    "f.close()\n",
    "ls = jieba.lcut(t)\n",
    "txt = \" \".join(ls)\n",
    "w = wordcloud.WordCloud(width=1000,height=700,font_path=\"msyh.ttc\",background_color = \"white\",mask = mask)\n",
    "w.generate(txt)\n",
    "w.to_file(\"D:/Vina_test/关于实施乡村振兴战略的意见3.png\")"
   ]
  },
  {
   "cell_type": "markdown",
   "metadata": {},
   "source": [
    "- 生态宜居乡村建设词云图，剔除无效词语"
   ]
  },
  {
   "cell_type": "code",
   "execution_count": 10,
   "metadata": {},
   "outputs": [
    {
     "name": "stderr",
     "output_type": "stream",
     "text": [
      "D:\\Anaconda\\Anaconda3\\lib\\site-packages\\ipykernel_launcher.py:4: DeprecationWarning: `imread` is deprecated!\n",
      "`imread` is deprecated in SciPy 1.0.0, and will be removed in 1.2.0.\n",
      "Use ``imageio.imread`` instead.\n",
      "  after removing the cwd from sys.path.\n"
     ]
    },
    {
     "data": {
      "text/plain": [
       "<wordcloud.wordcloud.WordCloud at 0x2668faeba90>"
      ]
     },
     "execution_count": 10,
     "metadata": {},
     "output_type": "execute_result"
    }
   ],
   "source": [
    "import jieba\n",
    "import wordcloud\n",
    "from scipy.misc import imread\n",
    "mask = imread(\"D:/Vina_test/中国地图.jpg\")\n",
    "f = open(\"D:/Vina_test/生态村.txt\",\"r\",encoding=\"utf-8\")\n",
    "t = f.read()\n",
    "f.close()\n",
    "ls = jieba.lcut(t)\n",
    "txt = \" \".join(ls)\n",
    "w = wordcloud.WordCloud(stopwords={\"农村\",\"村民\",\"村庄\",\"建设\"},width=1000,height=700,font_path=\"msyh.ttc\",background_color = \"white\",mask = mask)\n",
    "w.generate(txt)\n",
    "w.to_file(\"D:/Vina_test/生态村.png\")"
   ]
  },
  {
   "cell_type": "code",
   "execution_count": null,
   "metadata": {},
   "outputs": [],
   "source": []
  }
 ],
 "metadata": {
  "kernelspec": {
   "display_name": "Python 3",
   "language": "python",
   "name": "python3"
  },
  "language_info": {
   "codemirror_mode": {
    "name": "ipython",
    "version": 3
   },
   "file_extension": ".py",
   "mimetype": "text/x-python",
   "name": "python",
   "nbconvert_exporter": "python",
   "pygments_lexer": "ipython3",
   "version": "3.6.5"
  }
 },
 "nbformat": 4,
 "nbformat_minor": 2
}
